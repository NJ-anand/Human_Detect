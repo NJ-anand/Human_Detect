{
 "cells": [
  {
   "cell_type": "code",
   "execution_count": 1,
   "id": "514ec55b",
   "metadata": {},
   "outputs": [],
   "source": [
    "import tensorflow as tf\n",
    "import keras\n",
    "import cv2\n",
    "import numpy as np\n",
    "import telegram"
   ]
  },
  {
   "cell_type": "code",
   "execution_count": 2,
   "id": "407083b6",
   "metadata": {},
   "outputs": [],
   "source": [
    "TOKEN='5396855091:AAFvPSSwsFxqHO-f-QOZceKH1MlgGqGNF_g'\n",
    "bot=telegram.Bot(TOKEN)\n",
    "detection=tf.keras.models.load_model(r'C:\\Users\\LENOVO\\Human_Detection\\CNN_MobileNet')"
   ]
  },
  {
   "cell_type": "code",
   "execution_count": 5,
   "id": "015457e8",
   "metadata": {},
   "outputs": [],
   "source": [
    "def action():\n",
    "    bot = telegram.Bot(TOKEN)\n",
    "\n",
    "    if bot.get_updates():\n",
    "        chat_id = bot.get_updates()[-1].message.chat_id\n",
    "\n",
    "    # Get sample videos of different type from link - \n",
    "    # http://techslides.com/sample-webm-ogg-and-mp4-video-files-for-html5\n",
    "        vid = r'C:\\Users\\LENOVO\\Human_Detection\\filename.avi'\n",
    "\n",
    "    # send message\n",
    "        bot.send_video(chat_id, video=open(vid,'rb'))\n",
    "\n",
    "    else:\n",
    "        print(\"Empty list. Please, chat with the bot\")"
   ]
  },
  {
   "cell_type": "code",
   "execution_count": 6,
   "id": "6d65cbb5",
   "metadata": {},
   "outputs": [
    {
     "name": "stdout",
     "output_type": "stream",
     "text": [
      "1/1 [==============================] - 0s 41ms/step\n",
      "1/1 [==============================] - 0s 55ms/step\n",
      "1/1 [==============================] - 0s 39ms/step\n",
      "1/1 [==============================] - 0s 62ms/step\n",
      "1/1 [==============================] - 0s 57ms/step\n",
      "1/1 [==============================] - 0s 47ms/step\n",
      "1/1 [==============================] - 0s 59ms/step\n",
      "1/1 [==============================] - 0s 42ms/step\n",
      "1/1 [==============================] - 0s 48ms/step\n",
      "1/1 [==============================] - 0s 42ms/step\n",
      "1/1 [==============================] - 0s 47ms/step\n",
      "1/1 [==============================] - 0s 47ms/step\n",
      "1/1 [==============================] - 0s 44ms/step\n",
      "1/1 [==============================] - 0s 47ms/step\n"
     ]
    }
   ],
   "source": [
    "cam=cv2.VideoCapture(0)\n",
    "frame_width = int(cam.get(3))\n",
    "frame_height = int(cam.get(4))  \n",
    "size = (frame_width, frame_height)\n",
    "result = cv2.VideoWriter(r'C:\\Users\\LENOVO\\Human_Detection\\filename.avi', \n",
    "                         cv2.VideoWriter_fourcc(*'MJPG'),\n",
    "                         10,size)\n",
    "while (True):\n",
    "    ret, frame = cam.read()\n",
    "    img=frame\n",
    "    resize=tf.image.resize(img,(224,224))\n",
    "    yhat=detection.predict(np.expand_dims(resize,0)).flatten()\n",
    "    prediction= tf.nn.sigmoid(yhat)\n",
    "    if prediction> 0.5:\n",
    "        result.write(frame)\n",
    "        cv2.imshow('frame',frame)\n",
    "    else:\n",
    "        break\n",
    "    if cv2.waitKey(1) & 0xFF == ord('q'):\n",
    "        break\n",
    "\n",
    "cam.release()\n",
    "result.release()                         \n",
    "cv2.destroyAllWindows()\n",
    "action()"
   ]
  }
 ],
 "metadata": {
  "kernelspec": {
   "display_name": "Python 3 (ipykernel)",
   "language": "python",
   "name": "python3"
  },
  "language_info": {
   "codemirror_mode": {
    "name": "ipython",
    "version": 3
   },
   "file_extension": ".py",
   "mimetype": "text/x-python",
   "name": "python",
   "nbconvert_exporter": "python",
   "pygments_lexer": "ipython3",
   "version": "3.9.12"
  }
 },
 "nbformat": 4,
 "nbformat_minor": 5
}
